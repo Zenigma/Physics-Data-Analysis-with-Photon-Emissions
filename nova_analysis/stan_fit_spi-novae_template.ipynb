{
 "cells": [
  {
   "cell_type": "markdown",
   "metadata": {},
   "source": [
    "<h1>Fitting nova for flux template</h1>"
   ]
  },
  {
   "cell_type": "code",
   "execution_count": 1,
   "metadata": {},
   "outputs": [],
   "source": [
    "# SPI model fitting with Stan\n",
    "# Example: fitting two BG models + one nova model\n",
    "import numpy as np\n",
    "import matplotlib.pyplot as plt\n",
    "import pandas as pd\n",
    "\n",
    "import stan_utility\n",
    "import pystan\n",
    "import pickle\n",
    "import sys\n",
    "import time\n",
    "from IPython.display import Image\n",
    "\n",
    "from astropy.io import fits\n",
    "from astropy.coordinates import SkyCoord\n",
    "from astropy import units as u\n",
    "from angular_distance import angular_distance\n",
    "\n",
    "\n",
    "from utils import make_bg_cuts\n",
    "from utils import find_nearest\n",
    "\n",
    "plt.style.use('thomas')"
   ]
  },
  {
   "cell_type": "markdown",
   "metadata": {},
   "source": [
    "<h3>Reading in the data set</h3>"
   ]
  },
  {
   "cell_type": "markdown",
   "metadata": {},
   "source": [
    "<h3>Pointing definition in pointin.fits file:</h3>"
   ]
  },
  {
   "cell_type": "code",
   "execution_count": 2,
   "metadata": {},
   "outputs": [
    {
     "name": "stdout",
     "output_type": "stream",
     "text": [
      "Number of pointings in complete data set:  99880\n"
     ]
    }
   ],
   "source": [
    "with fits.open('pointing_filter.fits.gz') as content:\n",
    "    poin = content[1].data\n",
    "\n",
    "Np = len(poin)\n",
    "p = np.arange(Np)\n",
    "print('Number of pointings in complete data set: ',Np)\n",
    "Nrsp = 19 # 19 detectors\n",
    "days = poin['TSTART']\n",
    "revol_arr = np.array([float(poin['PTID_SPI'][i])/1e4 for i in range(Np)])"
   ]
  },
  {
   "cell_type": "markdown",
   "metadata": {},
   "source": [
    "<h3>Data set (counts) in evts_det_spec.fits file:</h3>"
   ]
  },
  {
   "cell_type": "code",
   "execution_count": 3,
   "metadata": {},
   "outputs": [],
   "source": [
    "with fits.open('evts_det_spec_filter.fits.gz') as content:\n",
    "    evts = content[1].data\n",
    "    \n",
    "data = evts['COUNTS'][:,2].reshape(Np,Nrsp)"
   ]
  },
  {
   "cell_type": "markdown",
   "metadata": {},
   "source": [
    "<h3>Energy boundaries definition (not important in our case, just illustration purpose):</h3>"
   ]
  },
  {
   "cell_type": "code",
   "execution_count": 4,
   "metadata": {},
   "outputs": [],
   "source": [
    "with fits.open('energy_boundaries.fits.gz') as content:\n",
    "    ebds = content[1].data"
   ]
  },
  {
   "cell_type": "markdown",
   "metadata": {},
   "source": [
    "<h3>Detector dead time in dead_time.fits file:</h3>"
   ]
  },
  {
   "cell_type": "code",
   "execution_count": 5,
   "metadata": {},
   "outputs": [],
   "source": [
    "with fits.open('dead_time_filter.fits.gz') as content:\n",
    "    dead = content[1].data"
   ]
  },
  {
   "cell_type": "markdown",
   "metadata": {},
   "source": [
    "<h3>Background model (already scaled to data) in back_model.fits file:</h3>"
   ]
  },
  {
   "cell_type": "code",
   "execution_count": 6,
   "metadata": {},
   "outputs": [],
   "source": [
    "with fits.open('back_model.fits.gz') as content:\n",
    "    bgc = content[2].data\n",
    "    bgl = content[3].data\n",
    "\n",
    "bgc_model = bgc['COUNTS'][:,2].reshape(Np,Nrsp)\n",
    "bgl_model = bgl['COUNTS'][:,2].reshape(Np,Nrsp)"
   ]
  },
  {
   "cell_type": "markdown",
   "metadata": {},
   "source": [
    "<h3>Complete INTEGRAL nova catalogue until 2018 (see earlier notebooks):</h3>"
   ]
  },
  {
   "cell_type": "code",
   "execution_count": 7,
   "metadata": {},
   "outputs": [],
   "source": [
    "data_frame = pd.read_csv('INTEGRAL_novae_wTimes.csv')\n",
    "good_novae = np.where(~np.isnan(data_frame['IJD']) &\n",
    "                      (data_frame['Dist. \\n(kpc)']+data_frame['Dist. Err. (kpc)'] < 25) &\n",
    "                      ((data_frame['Var. type'] == 'N') |\n",
    "                       (data_frame['Var. type'] == 'NAa') | \n",
    "                       (data_frame['Var. type'] == 'NB') |\n",
    "                       (data_frame['Var. type'] == 'NC') |\n",
    "                       (data_frame['Var. type'] == 'NTS')))[0]"
   ]
  },
  {
   "cell_type": "markdown",
   "metadata": {},
   "source": [
    "<h3>These are our objects:</h3>"
   ]
  },
  {
   "cell_type": "code",
   "execution_count": 8,
   "metadata": {},
   "outputs": [
    {
     "data": {
      "text/plain": [
       "array(['V556 Nor', 'V3666 Oph', 'V613 Sct', 'V408 Lup', 'V5857 Sgr',\n",
       "       'V435 CMa', 'V906 Car', 'V3665 Oph', 'V1663 Sco', 'V3664 Oph',\n",
       "       'V1662 Sco', 'FM Cir', 'V1661 Sco', 'V357 Mus', 'V3663 Oph',\n",
       "       'V1660 Sco', 'V549 Vel', 'V612 Sct', 'V1405 Cen', 'V3662 Oph',\n",
       "       'V1657 Sco', 'V5856 Sgr', 'V5855 Sgr', 'V407 Lup', 'V1659 Sco',\n",
       "       'V611 Sct', 'V1656 Sco', 'V5853 Sgr', 'V5854 Sgr ', 'V1655 Sco',\n",
       "       'V555 Nor', 'V5850 Sgr', 'V2949 Oph', 'V1831 Aql', 'V5669 Sgr',\n",
       "       'V2944 Oph', 'V1404 Cen', 'V1658 Sco', 'V1535 Sco', 'V5668 Sgr',\n",
       "       'V2659 Cyg', 'V5666 Sgr', 'V1830 Aql', 'V556 Ser', 'V339 Del',\n",
       "       'V1533 Sco', 'V809 Cep', 'V1724 Aql', 'V5593 Sgr', 'V5592 Sgr',\n",
       "       'V959 Mon', 'V1324 Sco', 'V5589 Sgr', 'V5591 Sgr', 'V2676 Oph',\n",
       "       'V965 Per', 'V1313 Sco', 'V5588 Sgr', 'V5587 Sgr', 'V1723 Aql ',\n",
       "       'V5586 Sgr', 'V1310 Sco', 'V5585 Sgr', 'V2674 Oph', 'V2672 Oph',\n",
       "       'V496 Sct', 'V5581 Sgr', 'V5582 Sgr', 'V5580 Sgr', 'V1212 Cen',\n",
       "       'V1721 Aql', 'V679 Car', 'V2468 Cyg', 'V2491 Cyg', 'QY Mus',\n",
       "       'V5579 Sgr', 'NR TrA', 'V1065 Cen', 'V2467 Cyg', 'V2615 Oph',\n",
       "       'V598 Pup', 'V1280 Sco', 'V5558 Sgr', 'V458 Vul', 'V459 Vul',\n",
       "       'V2576 Oph', 'V5117 Sgr', 'V1047 Cen', 'V382 Nor', 'V476 Sct',\n",
       "       'V5115 Sgr', 'V5116 Sgr', 'V574 Pup', 'V1186 Sco', 'V1187 Sco',\n",
       "       'DE Cir', 'DZ Cru', 'V475 Sct', 'V5113 Sgr', 'V4744 Sgr',\n",
       "       'V2540 Oph', 'V4743 Sgr'], dtype=object)"
      ]
     },
     "execution_count": 8,
     "metadata": {},
     "output_type": "execute_result"
    }
   ],
   "source": [
    "names = data_frame['Name'][good_novae].values\n",
    "names"
   ]
  },
  {
   "cell_type": "markdown",
   "metadata": {},
   "source": [
    "<h3>And the corrresponding files:</h3>"
   ]
  },
  {
   "cell_type": "code",
   "execution_count": 9,
   "metadata": {
    "scrolled": true
   },
   "outputs": [
    {
     "name": "stdout",
     "output_type": "stream",
     "text": [
      "total 446856\r\n",
      "-rw-r--r--  1 thomassiegert  staff   1694639 Jun 28 23:10 convsky_model_SPI_22Na_nova000_pointsource_V556_Nor.fits.gz\r\n",
      "-rw-r--r--  1 thomassiegert  staff   2692869 Jun 28 23:10 convsky_model_SPI_22Na_nova001_pointsource_V3666_Oph.fits.gz\r\n",
      "-rw-r--r--  1 thomassiegert  staff   2618913 Jun 28 23:10 convsky_model_SPI_22Na_nova002_pointsource_V613_Sct.fits.gz\r\n",
      "-rw-r--r--  1 thomassiegert  staff   1699945 Jun 28 23:10 convsky_model_SPI_22Na_nova003_pointsource_V408_Lup.fits.gz\r\n",
      "-rw-r--r--  1 thomassiegert  staff   2603190 Jun 28 23:09 convsky_model_SPI_22Na_nova004_pointsource_V5857_Sgr.fits.gz\r\n",
      "-rw-r--r--  1 thomassiegert  staff    375330 Jun 28 23:10 convsky_model_SPI_22Na_nova005_pointsource_V435_CMa.fits.gz\r\n",
      "-rw-r--r--  1 thomassiegert  staff    789360 Jun 28 23:10 convsky_model_SPI_22Na_nova006_pointsource_V906_Car.fits.gz\r\n",
      "-rw-r--r--  1 thomassiegert  staff   2778410 Jun 28 23:10 convsky_model_SPI_22Na_nova007_pointsource_V3665_Oph.fits.gz\r\n",
      "-rw-r--r--  1 thomassiegert  staff   2760781 Jun 28 23:09 convsky_model_SPI_22Na_nova008_pointsource_V1663_Sco.fits.gz\r\n",
      "-rw-r--r--  1 thomassiegert  staff   2724162 Jun 28 23:10 convsky_model_SPI_22Na_nova009_pointsource_V3664_Oph.fits.gz\r\n",
      "-rw-r--r--  1 thomassiegert  staff   2695320 Jun 28 23:10 convsky_model_SPI_22Na_nova010_pointsource_V1662_Sco.fits.gz\r\n",
      "-rw-r--r--  1 thomassiegert  staff   1049282 Jun 28 23:10 convsky_model_SPI_22Na_nova011_pointsource_FM_Cir.fits.gz\r\n",
      "-rw-r--r--  1 thomassiegert  staff   2800974 Jun 28 23:12 convsky_model_SPI_22Na_nova012_pointsource_V1661_Sco.fits.gz\r\n",
      "-rw-r--r--  1 thomassiegert  staff    829936 Jun 28 23:12 convsky_model_SPI_22Na_nova013_pointsource_V357_Mus.fits.gz\r\n",
      "-rw-r--r--  1 thomassiegert  staff   2725810 Jun 28 23:12 convsky_model_SPI_22Na_nova014_pointsource_V3663_Oph.fits.gz\r\n",
      "-rw-r--r--  1 thomassiegert  staff   2785535 Jun 28 23:12 convsky_model_SPI_22Na_nova015_pointsource_V1660_Sco.fits.gz\r\n",
      "-rw-r--r--  1 thomassiegert  staff    597945 Jun 28 23:12 convsky_model_SPI_22Na_nova016_pointsource_V549_Vel.fits.gz\r\n",
      "-rw-r--r--  1 thomassiegert  staff   2608305 Jun 28 23:12 convsky_model_SPI_22Na_nova017_pointsource_V612_Sct.fits.gz\r\n",
      "-rw-r--r--  1 thomassiegert  staff   1102383 Jun 28 23:12 convsky_model_SPI_22Na_nova018_pointsource_V1405_Cen.fits.gz\r\n",
      "-rw-r--r--  1 thomassiegert  staff   2719871 Jun 28 23:12 convsky_model_SPI_22Na_nova019_pointsource_V3662_Oph.fits.gz\r\n",
      "-rw-r--r--  1 thomassiegert  staff   2770193 Jun 28 23:11 convsky_model_SPI_22Na_nova020_pointsource_V1657_Sco.fits.gz\r\n",
      "-rw-r--r--  1 thomassiegert  staff   2746091 Jun 28 23:12 convsky_model_SPI_22Na_nova021_pointsource_V5856_Sgr.fits.gz\r\n",
      "-rw-r--r--  1 thomassiegert  staff   2722397 Jun 28 23:12 convsky_model_SPI_22Na_nova022_pointsource_V5855_Sgr.fits.gz\r\n",
      "-rw-r--r--  1 thomassiegert  staff   1665208 Jun 28 23:12 convsky_model_SPI_22Na_nova023_pointsource_V407_Lup.fits.gz\r\n",
      "-rw-r--r--  1 thomassiegert  staff   2757822 Jun 28 23:13 convsky_model_SPI_22Na_nova024_pointsource_V1659_Sco.fits.gz\r\n",
      "-rw-r--r--  1 thomassiegert  staff   2473637 Jun 28 23:14 convsky_model_SPI_22Na_nova025_pointsource_V611_Sct.fits.gz\r\n",
      "-rw-r--r--  1 thomassiegert  staff   2794768 Jun 28 23:14 convsky_model_SPI_22Na_nova026_pointsource_V1656_Sco.fits.gz\r\n",
      "-rw-r--r--  1 thomassiegert  staff   2710472 Jun 28 23:14 convsky_model_SPI_22Na_nova027_pointsource_V5853_Sgr.fits.gz\r\n",
      "-rw-r--r--  1 thomassiegert  staff   2735335 Jun 28 23:14 convsky_model_SPI_22Na_nova028_pointsource_V5854_Sgr_.fits.gz\r\n",
      "-rw-r--r--  1 thomassiegert  staff   2765592 Jun 28 23:14 convsky_model_SPI_22Na_nova029_pointsource_V1655_Sco.fits.gz\r\n",
      "-rw-r--r--  1 thomassiegert  staff   1691479 Jun 28 23:14 convsky_model_SPI_22Na_nova030_pointsource_V555_Nor.fits.gz\r\n",
      "-rw-r--r--  1 thomassiegert  staff   2604451 Jun 28 23:14 convsky_model_SPI_22Na_nova031_pointsource_V5850_Sgr.fits.gz\r\n",
      "-rw-r--r--  1 thomassiegert  staff   2713798 Jun 28 23:13 convsky_model_SPI_22Na_nova032_pointsource_V2949_Oph.fits.gz\r\n",
      "-rw-r--r--  1 thomassiegert  staff   1386474 Jun 28 23:13 convsky_model_SPI_22Na_nova033_pointsource_V1831_Aql.fits.gz\r\n",
      "-rw-r--r--  1 thomassiegert  staff   2703500 Jun 28 23:14 convsky_model_SPI_22Na_nova034_pointsource_V5669_Sgr.fits.gz\r\n",
      "-rw-r--r--  1 thomassiegert  staff   2632238 Jun 28 23:14 convsky_model_SPI_22Na_nova035_pointsource_V2944_Oph.fits.gz\r\n",
      "-rw-r--r--  1 thomassiegert  staff   1150999 Jun 28 23:16 convsky_model_SPI_22Na_nova036_pointsource_V1404_Cen.fits.gz\r\n",
      "-rw-r--r--  1 thomassiegert  staff   2744854 Jun 28 23:16 convsky_model_SPI_22Na_nova037_pointsource_V1658_Sco.fits.gz\r\n",
      "-rw-r--r--  1 thomassiegert  staff   2784070 Jun 28 23:16 convsky_model_SPI_22Na_nova038_pointsource_V1535_Sco.fits.gz\r\n",
      "-rw-r--r--  1 thomassiegert  staff   2691820 Jun 28 23:17 convsky_model_SPI_22Na_nova039_pointsource_V5668_Sgr.fits.gz\r\n",
      "-rw-r--r--  1 thomassiegert  staff   1199015 Jun 28 23:17 convsky_model_SPI_22Na_nova040_pointsource_V2659_Cyg.fits.gz\r\n",
      "-rw-r--r--  1 thomassiegert  staff   2641755 Jun 28 23:16 convsky_model_SPI_22Na_nova041_pointsource_V5666_Sgr.fits.gz\r\n",
      "-rw-r--r--  1 thomassiegert  staff   1449519 Jun 28 23:17 convsky_model_SPI_22Na_nova042_pointsource_V1830_Aql.fits.gz\r\n",
      "-rw-r--r--  1 thomassiegert  staff   2539175 Jun 28 23:16 convsky_model_SPI_22Na_nova043_pointsource_V556_Ser.fits.gz\r\n",
      "-rw-r--r--  1 thomassiegert  staff   1373562 Jun 28 23:17 convsky_model_SPI_22Na_nova044_pointsource_V339_Del.fits.gz\r\n",
      "-rw-r--r--  1 thomassiegert  staff   2777654 Jun 28 23:17 convsky_model_SPI_22Na_nova045_pointsource_V1533_Sco.fits.gz\r\n",
      "-rw-r--r--  1 thomassiegert  staff    808098 Jun 28 23:16 convsky_model_SPI_22Na_nova046_pointsource_V809_Cep.fits.gz\r\n",
      "-rw-r--r--  1 thomassiegert  staff   1523803 Jun 28 23:17 convsky_model_SPI_22Na_nova047_pointsource_V1724_Aql.fits.gz\r\n",
      "-rw-r--r--  1 thomassiegert  staff   2603477 Jun 28 23:19 convsky_model_SPI_22Na_nova048_pointsource_V5593_Sgr.fits.gz\r\n",
      "-rw-r--r--  1 thomassiegert  staff   2736017 Jun 28 23:19 convsky_model_SPI_22Na_nova049_pointsource_V5592_Sgr.fits.gz\r\n",
      "-rw-r--r--  1 thomassiegert  staff    727278 Jun 28 23:19 convsky_model_SPI_22Na_nova050_pointsource_V959_Mon.fits.gz\r\n",
      "-rw-r--r--  1 thomassiegert  staff   2746928 Jun 28 23:19 convsky_model_SPI_22Na_nova051_pointsource_V1324_Sco.fits.gz\r\n",
      "-rw-r--r--  1 thomassiegert  staff   2719096 Jun 28 23:19 convsky_model_SPI_22Na_nova052_pointsource_V5589_Sgr.fits.gz\r\n",
      "-rw-r--r--  1 thomassiegert  staff   2694558 Jun 28 23:19 convsky_model_SPI_22Na_nova053_pointsource_V5591_Sgr.fits.gz\r\n",
      "-rw-r--r--  1 thomassiegert  staff   2755414 Jun 28 23:19 convsky_model_SPI_22Na_nova054_pointsource_V2676_Oph.fits.gz\r\n",
      "-rw-r--r--  1 thomassiegert  staff    389210 Jun 28 23:19 convsky_model_SPI_22Na_nova055_pointsource_V965_Per.fits.gz\r\n",
      "-rw-r--r--  1 thomassiegert  staff   2795183 Jun 28 23:19 convsky_model_SPI_22Na_nova056_pointsource_V1313_Sco.fits.gz\r\n",
      "-rw-r--r--  1 thomassiegert  staff   2687117 Jun 28 23:19 convsky_model_SPI_22Na_nova057_pointsource_V5588_Sgr.fits.gz\r\n",
      "-rw-r--r--  1 thomassiegert  staff   2724999 Jun 28 23:19 convsky_model_SPI_22Na_nova058_pointsource_V5587_Sgr.fits.gz\r\n",
      "-rw-r--r--  1 thomassiegert  staff   1601013 Jun 28 23:19 convsky_model_SPI_22Na_nova059_pointsource_V1723_Aql_.fits.gz\r\n",
      "-rw-r--r--  1 thomassiegert  staff   2729784 Jun 28 23:21 convsky_model_SPI_22Na_nova060_pointsource_V5586_Sgr.fits.gz\r\n",
      "-rw-r--r--  1 thomassiegert  staff   2773637 Jun 28 23:21 convsky_model_SPI_22Na_nova061_pointsource_V1310_Sco.fits.gz\r\n",
      "-rw-r--r--  1 thomassiegert  staff   2714330 Jun 28 23:21 convsky_model_SPI_22Na_nova062_pointsource_V5585_Sgr.fits.gz\r\n",
      "-rw-r--r--  1 thomassiegert  staff   2783383 Jun 28 23:21 convsky_model_SPI_22Na_nova063_pointsource_V2674_Oph.fits.gz\r\n",
      "-rw-r--r--  1 thomassiegert  staff   2755436 Jun 28 23:21 convsky_model_SPI_22Na_nova064_pointsource_V2672_Oph.fits.gz\r\n",
      "-rw-r--r--  1 thomassiegert  staff   1901305 Jun 28 23:21 convsky_model_SPI_22Na_nova065_pointsource_V496_Sct.fits.gz\r\n",
      "-rw-r--r--  1 thomassiegert  staff   2720451 Jun 28 23:21 convsky_model_SPI_22Na_nova066_pointsource_V5581_Sgr.fits.gz\r\n",
      "-rw-r--r--  1 thomassiegert  staff   2671286 Jun 28 23:21 convsky_model_SPI_22Na_nova067_pointsource_V5582_Sgr.fits.gz\r\n",
      "-rw-r--r--  1 thomassiegert  staff   2747579 Jun 28 23:21 convsky_model_SPI_22Na_nova068_pointsource_V5580_Sgr.fits.gz\r\n",
      "-rw-r--r--  1 thomassiegert  staff   1185234 Jun 28 23:21 convsky_model_SPI_22Na_nova069_pointsource_V1212_Cen.fits.gz\r\n",
      "-rw-r--r--  1 thomassiegert  staff   1366814 Jun 28 23:21 convsky_model_SPI_22Na_nova070_pointsource_V1721_Aql.fits.gz\r\n",
      "-rw-r--r--  1 thomassiegert  staff    812733 Jun 28 23:21 convsky_model_SPI_22Na_nova071_pointsource_V679_Car.fits.gz\r\n",
      "-rw-r--r--  1 thomassiegert  staff   1349335 Jun 28 23:22 convsky_model_SPI_22Na_nova072_pointsource_V2468_Cyg.fits.gz\r\n",
      "-rw-r--r--  1 thomassiegert  staff   1298929 Jun 28 23:22 convsky_model_SPI_22Na_nova073_pointsource_V2491_Cyg.fits.gz\r\n",
      "-rw-r--r--  1 thomassiegert  staff   1035414 Jun 28 23:23 convsky_model_SPI_22Na_nova074_pointsource_QY_Mus.fits.gz\r\n",
      "-rw-r--r--  1 thomassiegert  staff   2710420 Jun 28 23:23 convsky_model_SPI_22Na_nova075_pointsource_V5579_Sgr.fits.gz\r\n",
      "-rw-r--r--  1 thomassiegert  staff   1419242 Jun 28 23:23 convsky_model_SPI_22Na_nova076_pointsource_NR_TrA.fits.gz\r\n",
      "-rw-r--r--  1 thomassiegert  staff    884812 Jun 28 23:22 convsky_model_SPI_22Na_nova077_pointsource_V1065_Cen.fits.gz\r\n",
      "-rw-r--r--  1 thomassiegert  staff   1090235 Jun 28 23:23 convsky_model_SPI_22Na_nova078_pointsource_V2467_Cyg.fits.gz\r\n",
      "-rw-r--r--  1 thomassiegert  staff   2724947 Jun 28 23:22 convsky_model_SPI_22Na_nova079_pointsource_V2615_Oph.fits.gz\r\n",
      "-rw-r--r--  1 thomassiegert  staff    380457 Jun 28 23:22 convsky_model_SPI_22Na_nova080_pointsource_V598_Pup.fits.gz\r\n",
      "-rw-r--r--  1 thomassiegert  staff   2804115 Jun 28 23:22 convsky_model_SPI_22Na_nova081_pointsource_V1280_Sco.fits.gz\r\n",
      "-rw-r--r--  1 thomassiegert  staff   2601285 Jun 28 23:23 convsky_model_SPI_22Na_nova082_pointsource_V5558_Sgr.fits.gz\r\n",
      "-rw-r--r--  1 thomassiegert  staff   1487240 Jun 28 23:23 convsky_model_SPI_22Na_nova083_pointsource_V458_Vul.fits.gz\r\n",
      "-rw-r--r--  1 thomassiegert  staff   1490858 Jun 28 23:25 convsky_model_SPI_22Na_nova084_pointsource_V459_Vul.fits.gz\r\n",
      "-rw-r--r--  1 thomassiegert  staff   2783593 Jun 28 23:25 convsky_model_SPI_22Na_nova085_pointsource_V2576_Oph.fits.gz\r\n",
      "-rw-r--r--  1 thomassiegert  staff   2788409 Jun 28 23:25 convsky_model_SPI_22Na_nova086_pointsource_V5117_Sgr.fits.gz\r\n",
      "-rw-r--r--  1 thomassiegert  staff   1113709 Jun 28 23:24 convsky_model_SPI_22Na_nova087_pointsource_V1047_Cen.fits.gz\r\n",
      "-rw-r--r--  1 thomassiegert  staff   1788557 Jun 28 23:25 convsky_model_SPI_22Na_nova088_pointsource_V382_Nor.fits.gz\r\n",
      "-rw-r--r--  1 thomassiegert  staff   1978584 Jun 28 23:25 convsky_model_SPI_22Na_nova089_pointsource_V476_Sct.fits.gz\r\n",
      "-rw-r--r--  1 thomassiegert  staff   2708788 Jun 28 23:25 convsky_model_SPI_22Na_nova090_pointsource_V5115_Sgr.fits.gz\r\n",
      "-rw-r--r--  1 thomassiegert  staff   2744053 Jun 28 23:25 convsky_model_SPI_22Na_nova091_pointsource_V5116_Sgr.fits.gz\r\n",
      "-rw-r--r--  1 thomassiegert  staff    477573 Jun 28 23:25 convsky_model_SPI_22Na_nova092_pointsource_V574_Pup.fits.gz\r\n",
      "-rw-r--r--  1 thomassiegert  staff   2799818 Jun 28 23:25 convsky_model_SPI_22Na_nova093_pointsource_V1186_Sco.fits.gz\r\n",
      "-rw-r--r--  1 thomassiegert  staff   2792949 Jun 28 23:25 convsky_model_SPI_22Na_nova094_pointsource_V1187_Sco.fits.gz\r\n",
      "-rw-r--r--  1 thomassiegert  staff   1370348 Jun 28 23:25 convsky_model_SPI_22Na_nova095_pointsource_DE_Cir.fits.gz\r\n",
      "-rw-r--r--  1 thomassiegert  staff   1061711 Jun 28 23:25 convsky_model_SPI_22Na_nova096_pointsource_DZ_Cru.fits.gz\r\n",
      "-rw-r--r--  1 thomassiegert  staff   2012628 Jun 28 23:25 convsky_model_SPI_22Na_nova097_pointsource_V475_Sct.fits.gz\r\n",
      "-rw-r--r--  1 thomassiegert  staff   2711506 Jun 28 23:25 convsky_model_SPI_22Na_nova098_pointsource_V5113_Sgr.fits.gz\r\n",
      "-rw-r--r--  1 thomassiegert  staff   2719074 Jun 28 23:25 convsky_model_SPI_22Na_nova099_pointsource_V4744_Sgr.fits.gz\r\n",
      "-rw-r--r--  1 thomassiegert  staff   2589123 Jun 28 23:25 convsky_model_SPI_22Na_nova100_pointsource_V2540_Oph.fits.gz\r\n",
      "-rw-r--r--  1 thomassiegert  staff   2553492 Jun 28 23:25 convsky_model_SPI_22Na_nova101_pointsource_V4743_Sgr.fits.gz\r\n",
      "-rw-r--r--  1 thomassiegert  staff  11748783 Jul 30 17:35 convsky_model_SPI_22Na_nova_diffuse.fits.gz\r\n"
     ]
    }
   ],
   "source": [
    "!ls -l convskys/\n",
    "# if that doesnt work, just look at the directory convskys"
   ]
  },
  {
   "cell_type": "markdown",
   "metadata": {},
   "source": [
    "<h3>You see that they are in the same order and have a certain index associated with them, so e.g., convsky_model_SPI_22Na_nova004_pointsource_V5857_Sgr.fits.gz has the index 4 (the first 4 [0..3] are always zero because they happen after the last pointing of our data set):</h3>"
   ]
  },
  {
   "cell_type": "code",
   "execution_count": 10,
   "metadata": {},
   "outputs": [
    {
     "name": "stdout",
     "output_type": "stream",
     "text": [
      "Source name:  V5857 Sgr\n"
     ]
    }
   ],
   "source": [
    "filename = 'convsky_model_SPI_22Na_nova004_pointsource_V5857_Sgr.fits.gz'\n",
    "ndx = 4\n",
    "print('Source name: ',names[ndx])"
   ]
  },
  {
   "cell_type": "markdown",
   "metadata": {},
   "source": [
    "<h3>Always check that this works out as expected.</h3>"
   ]
  },
  {
   "cell_type": "markdown",
   "metadata": {},
   "source": [
    "<h3>Smaller indices are later times (thus, smaller data sets):</h3>"
   ]
  },
  {
   "cell_type": "code",
   "execution_count": 11,
   "metadata": {},
   "outputs": [
    {
     "name": "stdout",
     "output_type": "stream",
     "text": [
      "Explosion date [IJD]:  6672.7229976851895\n"
     ]
    }
   ],
   "source": [
    "# explosion date\n",
    "T0 = data_frame['IJD'][good_novae].values[ndx]\n",
    "print('Explosion date [IJD]: ',T0)\n",
    "\n",
    "# decay constant\n",
    "tau = 2.602/np.log(2)*365.25\n",
    "#print(tau)"
   ]
  },
  {
   "cell_type": "markdown",
   "metadata": {},
   "source": [
    "<h3>We read in the already-convolved sky model response of chosen nova:</h3>"
   ]
  },
  {
   "cell_type": "code",
   "execution_count": 12,
   "metadata": {},
   "outputs": [],
   "source": [
    "with fits.open('convskys/'+filename) as content:\n",
    "    nova = content[2].data\n",
    "    \n",
    "nova_model = nova['COUNTS'].reshape(Np,Nrsp)"
   ]
  },
  {
   "cell_type": "code",
   "execution_count": null,
   "metadata": {},
   "outputs": [],
   "source": []
  },
  {
   "cell_type": "markdown",
   "metadata": {},
   "source": [
    "<h3>Expectation for significance (check later if this ~worked out)</h3>"
   ]
  },
  {
   "cell_type": "code",
   "execution_count": 13,
   "metadata": {},
   "outputs": [],
   "source": [
    "# summing over all detectors (axis=1)\n",
    "flux_scl = 2e2\n",
    "nova_counts_time = np.nansum(nova_model/flux_scl,axis=1) # /2e2 to make 2e-3 to 1e-5\n",
    "# applying exponential decay function\n",
    "nova_counts_decay = nova_counts_time*np.heaviside(days-T0,1)*np.exp(-(days-T0)/tau)"
   ]
  },
  {
   "cell_type": "markdown",
   "metadata": {},
   "source": [
    "<h3>Cross check expected counts</h3>"
   ]
  },
  {
   "cell_type": "code",
   "execution_count": 14,
   "metadata": {},
   "outputs": [
    {
     "data": {
      "text/plain": [
       "<matplotlib.legend.Legend at 0x1373a6d50>"
      ]
     },
     "execution_count": 14,
     "metadata": {},
     "output_type": "execute_result"
    },
    {
     "data": {
      "image/png": "[encoded data removed]",
      "text/plain": [
       "<Figure size 1152x432 with 1 Axes>"
      ]
     },
     "metadata": {
      "needs_background": "light"
     },
     "output_type": "display_data"
    }
   ],
   "source": [
    "plt.figure(figsize=(16,6))\n",
    "plt.plot(days,nova_counts_time,label='Constant source')\n",
    "plt.plot(days,nova_counts_decay,label='Decaying source')\n",
    "plt.axvline(T0,linestyle='--',color='blue')\n",
    "plt.xlabel('IJD')\n",
    "plt.ylabel('Counts in pointing')\n",
    "plt.legend()\n",
    "#plt.xlim(T0,)"
   ]
  },
  {
   "cell_type": "code",
   "execution_count": 15,
   "metadata": {},
   "outputs": [],
   "source": [
    "# same for the data to get total counts in each pointing\n",
    "data_counts_time = np.sum(data,axis=1)\n",
    "# remember SNR from last notebook\n",
    "# decaying source\n",
    "snr_nova_decay = np.sqrt(np.nancumsum((nova_counts_decay / np.sqrt(data_counts_time))**2))\n",
    "# constant source\n",
    "snr_nova_const = np.sqrt(np.nancumsum((nova_counts_time / np.sqrt(data_counts_time))**2))"
   ]
  },
  {
   "cell_type": "code",
   "execution_count": 16,
   "metadata": {},
   "outputs": [
    {
     "data": {
      "image/png": "[encoded data removed]",
      "text/plain": [
       "<Figure size 432x288 with 1 Axes>"
      ]
     },
     "metadata": {
      "needs_background": "light"
     },
     "output_type": "display_data"
    }
   ],
   "source": [
    "plt.plot(days,snr_nova_const,label='Constant source SNR: '+str('%.2f' % snr_nova_const[-1]))\n",
    "plt.plot(days,snr_nova_decay,label='Decaying source SNR: '+str('%.2f' % snr_nova_decay[-1]))\n",
    "plt.xlabel('IJD')\n",
    "plt.ylabel('SNR')\n",
    "plt.legend()\n",
    "plt.savefig('SNR_expectation'+names[ndx]+'.pdf')"
   ]
  },
  {
   "cell_type": "code",
   "execution_count": null,
   "metadata": {},
   "outputs": [],
   "source": []
  },
  {
   "cell_type": "code",
   "execution_count": 17,
   "metadata": {},
   "outputs": [],
   "source": [
    "livetime = dead['livetime'].reshape(Np,Nrsp)"
   ]
  },
  {
   "cell_type": "markdown",
   "metadata": {},
   "source": [
    "<h3>Load Stan model</h3>"
   ]
  },
  {
   "cell_type": "code",
   "execution_count": 18,
   "metadata": {},
   "outputs": [],
   "source": [
    "try:\n",
    "    #read filename.pkl (if already compiled)\n",
    "    model = pickle.load(open('spimodfit_bg_conti_sep_nozeros.pkl', 'rb'))\n",
    "\n",
    "except:\n",
    "    print('Stan model not yet compiled, doing that now')\n",
    "    ## compile model (if not yet compiled):\n",
    "    model = pystan.StanModel('spimodfit_bg_conti_sep_nozeros.stan')\n",
    "\n",
    "    ## save it to the file 'filename.pkl' for later use\n",
    "    with open('spimodfit_bg_conti_sep_nozeros.pkl', 'wb') as f:\n",
    "        pickle.dump(model, f)"
   ]
  },
  {
   "cell_type": "code",
   "execution_count": null,
   "metadata": {},
   "outputs": [],
   "source": []
  },
  {
   "cell_type": "markdown",
   "metadata": {},
   "source": [
    "<h3>Using useful cuts for the background:</h3>"
   ]
  },
  {
   "cell_type": "markdown",
   "metadata": {},
   "source": [
    "<h3>Typically, background changes on the time scale of one orbit. Thus, we want to find the indices where a new INTEGRAL revolution starts, etc.:</h3>"
   ]
  },
  {
   "cell_type": "code",
   "execution_count": 19,
   "metadata": {},
   "outputs": [],
   "source": [
    "revolutions, rev_idx = np.unique(np.floor(revol_arr),return_index=True)\n",
    "rev_idx += 1 #+1 for stan\n",
    "det_failures_IJD = np.array([1435.41635,1659.46000,3337.50000,3799.66740])\n",
    "df_idx = np.array([find_nearest(poin['TSTART'],i) for i in det_failures_IJD])\n",
    "df_idx[np.where(poin['TSTART'][df_idx] < det_failures_IJD)[0]] += 1\n",
    "df_idx += 1 #+1 for stan\n",
    "\n",
    "annealing_revs = np.array([40,94,134,207,279,328,397,449,508,568,644,717,\n",
    "                           799,860,913,978,1044,1115,1180,1251,1321,1374,\n",
    "                           1452,1509,1587,1654,1707,1773,1845,1915])\n",
    "ann_idx_tmp = np.array([find_nearest(revolutions,i) for i in annealing_revs])\n",
    "ann_idx_tmp[np.where(revolutions[ann_idx_tmp] < annealing_revs)[0]] += 1\n",
    "ann_idx_tmp += 1 #Stan\n",
    "ann_idx_tmp = np.delete(ann_idx_tmp,0) # get rid of the first entry as already included in the revolution indices\n",
    "ann_idx = np.array([rev_idx[np.where(revolutions == revolutions[ann_idx_tmp[i]-1])[0][0]] for i in range(len(ann_idx_tmp))])\n",
    "\n",
    "every_x_rev = [1,2]\n",
    "all_cuts_rev = [list(rev_idx[::i]) for i in every_x_rev]\n",
    "all_cuts_unique_rev = np.unique(all_cuts_rev)\n",
    "all_cuts = [list(all_cuts_unique_rev[i])+list(df_idx)+list(ann_idx) for i in range(len(all_cuts_unique_rev))]\n",
    "all_cuts.append(list(df_idx)+list(ann_idx))\n",
    "all_cuts.append(list(df_idx))\n",
    "all_cuts.append(list([1]))\n",
    "all_cuts_unique = np.array([list(dict.fromkeys(cuts)) for cuts in all_cuts])"
   ]
  },
  {
   "cell_type": "code",
   "execution_count": null,
   "metadata": {},
   "outputs": [],
   "source": []
  },
  {
   "cell_type": "markdown",
   "metadata": {},
   "source": [
    "<h3>Now reformatting our model:</h3>"
   ]
  },
  {
   "cell_type": "code",
   "execution_count": 20,
   "metadata": {},
   "outputs": [],
   "source": [
    "nova_model_decay = nova_model*(np.heaviside(days-T0,1)*np.exp(-(days-T0)/tau))[:,None]/flux_scl"
   ]
  },
  {
   "cell_type": "code",
   "execution_count": 21,
   "metadata": {},
   "outputs": [
    {
     "name": "stdout",
     "output_type": "stream",
     "text": [
      "first non-zero index:  99296\n",
      "Number of remaining pointings:  584\n"
     ]
    }
   ],
   "source": [
    "# first index\n",
    "fidx = np.where(nova_model_decay[:,0] != 0)[0][0]\n",
    "print('first non-zero index: ',fidx)\n",
    "\n",
    "# new pointings\n",
    "Np_decay = Np-fidx # number of pointings in reduced data set\n",
    "print('Number of remaining pointings: ',Np_decay)\n",
    "\n",
    "# new cuts\n",
    "cuts_decay = np.array(all_cuts_unique[0])[np.array(all_cuts_unique[0])>=(fidx+1)]-(fidx)"
   ]
  },
  {
   "cell_type": "code",
   "execution_count": null,
   "metadata": {},
   "outputs": [],
   "source": []
  },
  {
   "cell_type": "markdown",
   "metadata": {},
   "source": [
    "<h3>Now building everything together as before, but now with the reduced data set:</h3>"
   ]
  },
  {
   "cell_type": "code",
   "execution_count": 22,
   "metadata": {},
   "outputs": [
    {
     "name": "stdout",
     "output_type": "stream",
     "text": [
      "0.1163170337677002\n"
     ]
    }
   ],
   "source": [
    "# background cuts \n",
    "bg_cuts, idx_arr, Ncuts = make_bg_cuts([1]+list(cuts_decay),Np_decay)\n",
    "\n",
    "# good indices\n",
    "idx = np.where(~((data[fidx:,:].ravel() == 0) &\n",
    "                 (bgl_model[fidx:,:].ravel() == 0) &\n",
    "                 (bgc_model[fidx:,:].ravel() == 0)))[0] + 1\n",
    "\n",
    "# number of good (non-zero) indices\n",
    "Ngood = len(idx)\n",
    "\n",
    "mu_flux_scl = np.array([0.])      # prior centroids for sky, we use 0 because we expect to see nothing\n",
    "sigma_flux_scl = np.array([100.]) # width very broad (noninformative now) because we let the data talk\n",
    "mu_Abg_lines = 1.                      # background as before\n",
    "sigma_Abg_lines = 0.2                  # same\n",
    "mu_Abg_conti = 1.                      # same\n",
    "sigma_Abg_conti = 0.1                  # same\n",
    "\n",
    "\n",
    "# dictionary for data set and prior\n",
    "data2D = dict(N = Nrsp,\n",
    "              Np = Np_decay,\n",
    "              Nsky = 1,\n",
    "              Ncuts = Ncuts,\n",
    "              Ngood = Ngood,\n",
    "              good_indices = idx,\n",
    "              bg_cuts = bg_cuts,\n",
    "              bg_idx_arr = idx_arr,\n",
    "              y = data[fidx:,:].ravel().astype(int),\n",
    "              bg_model_lines = np.abs(bgl_model[fidx:,:]),\n",
    "              bg_model_conti = np.abs(bgc_model[fidx:,:]),\n",
    "              conv_sky = nova_model_decay[fidx:,:].reshape(1,Np_decay,Nrsp), \n",
    "              mu_flux = mu_flux_scl,\n",
    "              sigma_flux = sigma_flux_scl,\n",
    "              mu_Abg_lines = mu_Abg_lines,\n",
    "              sigma_Abg_lines = sigma_Abg_lines,\n",
    "              mu_Abg_conti = mu_Abg_conti,\n",
    "              sigma_Abg_conti = sigma_Abg_conti)\n",
    "\n",
    "# init for specific cuts\n",
    "init = {}\n",
    "init['flux'] = np.array([1.0])\n",
    "init['Abg_lines'] = np.repeat(1.0,Ncuts)\n",
    "init['Abg_conti'] = np.repeat(1.0,Ncuts)\n",
    "\n",
    "# optimize for test run\n",
    "start = time.time()\n",
    "op_tmp = model.optimizing(data=data2D,verbose=True,init=init,as_vector=False,tol_rel_grad=1e4)\n",
    "print(time.time()-start)"
   ]
  },
  {
   "cell_type": "code",
   "execution_count": null,
   "metadata": {},
   "outputs": [],
   "source": []
  },
  {
   "cell_type": "markdown",
   "metadata": {},
   "source": [
    "<h3>If this runs without throwing an error, then we fit:</h3>"
   ]
  },
  {
   "cell_type": "code",
   "execution_count": 23,
   "metadata": {},
   "outputs": [
    {
     "name": "stdout",
     "output_type": "stream",
     "text": [
      "85.18616199493408\n"
     ]
    }
   ],
   "source": [
    "# sample full posterior\n",
    "start = time.time()\n",
    "fit_tmp = model.sampling(data=data2D,\n",
    "                         chains=1,\n",
    "                         iter=1000,\n",
    "                         n_jobs=-1,\n",
    "                         verbose=True,\n",
    "                         pars=['flux','Abg_lines','Abg_conti'])\n",
    "print(time.time()-start)"
   ]
  },
  {
   "cell_type": "code",
   "execution_count": null,
   "metadata": {},
   "outputs": [],
   "source": []
  },
  {
   "cell_type": "markdown",
   "metadata": {},
   "source": [
    "<h3>Check ouput and print the StanSummary for the flux value:</h3>"
   ]
  },
  {
   "cell_type": "code",
   "execution_count": 24,
   "metadata": {
    "scrolled": false
   },
   "outputs": [
    {
     "name": "stdout",
     "output_type": "stream",
     "text": [
      "Inference for Stan model: anon_model_82974d80982aabf2b11051a2be36db84.\n",
      "1 chains, each with iter=1000; warmup=500; thin=1; \n",
      "post-warmup draws per chain=500, total post-warmup draws=500.\n",
      "\n",
      "          mean se_mean     sd   2.5%    25%    50%    75%  97.5%  n_eff   Rhat\n",
      "flux[1]   13.8     0.4   9.79   1.08   5.64  11.93   19.4  37.78    591    1.0\n",
      "\n",
      "Samples were drawn using NUTS at Fri Jul 31 21:38:52 2020.\n",
      "For each parameter, n_eff is a crude measure of effective sample size,\n",
      "and Rhat is the potential scale reduction factor on split chains (at \n",
      "convergence, Rhat=1).\n"
     ]
    }
   ],
   "source": [
    "print(fit_tmp.stansummary(['flux']))"
   ]
  },
  {
   "cell_type": "code",
   "execution_count": null,
   "metadata": {},
   "outputs": [],
   "source": []
  },
  {
   "cell_type": "markdown",
   "metadata": {},
   "source": [
    "<h3>Plot posterior distribution of all values and save to pdf:</h3>"
   ]
  },
  {
   "cell_type": "code",
   "execution_count": 25,
   "metadata": {},
   "outputs": [
    {
     "name": "stderr",
     "output_type": "stream",
     "text": [
      "WARNING:pystan:Deprecation warning. In future, use ArviZ library (`pip install arviz`)\n"
     ]
    },
    {
     "data": {
      "image/png": "[encoded data removed]",
      "text/plain": [
       "<Figure size 432x288 with 6 Axes>"
      ]
     },
     "metadata": {
      "needs_background": "light"
     },
     "output_type": "display_data"
    }
   ],
   "source": [
    "fit_tmp.plot(['flux','Abg_lines','Abg_conti'])\n",
    "plt.tight_layout()\n",
    "plt.savefig('posteriors_'+names[ndx]+'.pdf')"
   ]
  },
  {
   "cell_type": "code",
   "execution_count": null,
   "metadata": {},
   "outputs": [],
   "source": []
  },
  {
   "cell_type": "markdown",
   "metadata": {},
   "source": [
    "<h3>Print out the info we want (upper bound):</h3>"
   ]
  },
  {
   "cell_type": "code",
   "execution_count": 26,
   "metadata": {},
   "outputs": [
    {
     "name": "stdout",
     "output_type": "stream",
     "text": [
      "Upper bound (99.85th percentile) on the 22Na (1275 keV) flux of V5857 Sgr: 42.0e-5\n"
     ]
    }
   ],
   "source": [
    "print('Upper bound (99.85th percentile) on the 22Na (1275 keV) flux of '+data_frame['Name'][good_novae[ndx]]+': %.1fe-5' % (np.percentile(fit_tmp['flux'],99.85)))"
   ]
  },
  {
   "cell_type": "code",
   "execution_count": null,
   "metadata": {},
   "outputs": [],
   "source": []
  },
  {
   "cell_type": "markdown",
   "metadata": {},
   "source": [
    "<h3>Checking our expectation from above:</h3>"
   ]
  },
  {
   "cell_type": "code",
   "execution_count": 27,
   "metadata": {},
   "outputs": [
    {
     "name": "stdout",
     "output_type": "stream",
     "text": [
      "Expected 3sigma limit: 53.7e-5\n"
     ]
    }
   ],
   "source": [
    "# maximum SNR for flux of 1e-5:\n",
    "SNR_max = snr_nova_decay[-1]\n",
    "\n",
    "# 3sigma bound wrt to this value:\n",
    "print('Expected 3sigma limit: %.1fe-5' % (3/SNR_max))"
   ]
  },
  {
   "cell_type": "markdown",
   "metadata": {},
   "source": [
    "<h3>This value should be in the ballpart of the one above (factor of 2), then we are good to go.</h3>"
   ]
  },
  {
   "cell_type": "code",
   "execution_count": null,
   "metadata": {},
   "outputs": [],
   "source": []
  },
  {
   "cell_type": "markdown",
   "metadata": {},
   "source": [
    "<h3>Save fit info to file:</h3>"
   ]
  },
  {
   "cell_type": "code",
   "execution_count": 28,
   "metadata": {},
   "outputs": [],
   "source": [
    "np.savez_compressed('save_StanFit_Nova'+data_frame['Name'][good_novae[ndx]]+'.npz',\n",
    "                    fit_tmp_flux=fit_tmp['flux'],\n",
    "                    fit_tmp_Abg_conti=fit_tmp['Abg_conti'],\n",
    "                    fit_tmp_Abg_lines=fit_tmp['Abg_lines'])"
   ]
  },
  {
   "cell_type": "code",
   "execution_count": null,
   "metadata": {},
   "outputs": [],
   "source": []
  },
  {
   "cell_type": "markdown",
   "metadata": {},
   "source": [
    "<h3>Done, next source.</h3>"
   ]
  },
  {
   "cell_type": "code",
   "execution_count": null,
   "metadata": {},
   "outputs": [],
   "source": []
  },
  {
   "cell_type": "markdown",
   "metadata": {},
   "source": [
    "<h1>List of objects for everyone:</h1>"
   ]
  },
  {
   "cell_type": "markdown",
   "metadata": {},
   "source": [
    "<h3>Akshay:</h3>"
   ]
  },
  {
   "cell_type": "code",
   "execution_count": 32,
   "metadata": {},
   "outputs": [
    {
     "name": "stdout",
     "output_type": "stream",
     "text": [
      "Objects:  ['V556 Nor' 'V435 CMa' 'V1662 Sco' 'V1660 Sco' 'V1657 Sco' 'V611 Sct'\n",
      " 'V555 Nor' 'V2944 Oph' 'V2659 Cyg' 'V1533 Sco' 'V959 Mon' 'V965 Per'\n",
      " 'V5586 Sgr' 'V496 Sct' 'V1721 Aql' 'V5579 Sgr' 'V598 Pup' 'V2576 Oph'\n",
      " 'V5115 Sgr' 'DE Cir' 'V2540 Oph']\n",
      "Indices:  [  0   5  10  15  20  25  30  35  40  45  50  55  60  65  70  75  80  85\n",
      "  90  95 100]\n"
     ]
    }
   ],
   "source": [
    "print('Objects: ',names[::5])\n",
    "print('Indices: ',np.arange(len(names))[::5])"
   ]
  },
  {
   "cell_type": "markdown",
   "metadata": {},
   "source": [
    "<h3>Sohan:</h3>"
   ]
  },
  {
   "cell_type": "code",
   "execution_count": 34,
   "metadata": {},
   "outputs": [
    {
     "name": "stdout",
     "output_type": "stream",
     "text": [
      "Objects:  ['V3666 Oph' 'V906 Car' 'FM Cir' 'V549 Vel' 'V5856 Sgr' 'V1656 Sco'\n",
      " 'V5850 Sgr' 'V1404 Cen' 'V5666 Sgr' 'V809 Cep' 'V1324 Sco' 'V1313 Sco'\n",
      " 'V1310 Sco' 'V5581 Sgr' 'V679 Car' 'NR TrA' 'V1280 Sco' 'V5117 Sgr'\n",
      " 'V5116 Sgr' 'DZ Cru' 'V4743 Sgr']\n",
      "Indices:  [  1   6  11  16  21  26  31  36  41  46  51  56  61  66  71  76  81  86\n",
      "  91  96 101]\n"
     ]
    }
   ],
   "source": [
    "print('Objects: ',names[1::5])\n",
    "print('Indices: ',np.arange(len(names))[1::5])"
   ]
  },
  {
   "cell_type": "markdown",
   "metadata": {},
   "source": [
    "<h3>Ethan:</h3>"
   ]
  },
  {
   "cell_type": "code",
   "execution_count": 35,
   "metadata": {},
   "outputs": [
    {
     "name": "stdout",
     "output_type": "stream",
     "text": [
      "Objects:  ['V613 Sct' 'V3665 Oph' 'V1661 Sco' 'V612 Sct' 'V5855 Sgr' 'V5853 Sgr'\n",
      " 'V2949 Oph' 'V1658 Sco' 'V1830 Aql' 'V1724 Aql' 'V5589 Sgr' 'V5588 Sgr'\n",
      " 'V5585 Sgr' 'V5582 Sgr' 'V2468 Cyg' 'V1065 Cen' 'V5558 Sgr' 'V1047 Cen'\n",
      " 'V574 Pup' 'V475 Sct']\n",
      "Indices:  [ 2  7 12 17 22 27 32 37 42 47 52 57 62 67 72 77 82 87 92 97]\n"
     ]
    }
   ],
   "source": [
    "print('Objects: ',names[2::5])\n",
    "print('Indices: ',np.arange(len(names))[2::5])"
   ]
  },
  {
   "cell_type": "markdown",
   "metadata": {},
   "source": [
    "<h3>Kalp:</h3>"
   ]
  },
  {
   "cell_type": "code",
   "execution_count": 36,
   "metadata": {},
   "outputs": [
    {
     "name": "stdout",
     "output_type": "stream",
     "text": [
      "Objects:  ['V408 Lup' 'V1663 Sco' 'V357 Mus' 'V1405 Cen' 'V407 Lup' 'V5854 Sgr '\n",
      " 'V1831 Aql' 'V1535 Sco' 'V556 Ser' 'V5593 Sgr' 'V5591 Sgr' 'V5587 Sgr'\n",
      " 'V2674 Oph' 'V5580 Sgr' 'V2491 Cyg' 'V2467 Cyg' 'V458 Vul' 'V382 Nor'\n",
      " 'V1186 Sco' 'V5113 Sgr']\n",
      "Indices:  [ 3  8 13 18 23 28 33 38 43 48 53 58 63 68 73 78 83 88 93 98]\n"
     ]
    }
   ],
   "source": [
    "print('Objects: ',names[3::5])\n",
    "print('Indices: ',np.arange(len(names))[3::5])"
   ]
  },
  {
   "cell_type": "markdown",
   "metadata": {},
   "source": [
    "<h3>Thomas:</h3>"
   ]
  },
  {
   "cell_type": "code",
   "execution_count": 37,
   "metadata": {},
   "outputs": [
    {
     "name": "stdout",
     "output_type": "stream",
     "text": [
      "Objects:  ['V5857 Sgr' 'V3664 Oph' 'V3663 Oph' 'V3662 Oph' 'V1659 Sco' 'V1655 Sco'\n",
      " 'V5669 Sgr' 'V5668 Sgr' 'V339 Del' 'V5592 Sgr' 'V2676 Oph' 'V1723 Aql '\n",
      " 'V2672 Oph' 'V1212 Cen' 'QY Mus' 'V2615 Oph' 'V459 Vul' 'V476 Sct'\n",
      " 'V1187 Sco' 'V4744 Sgr']\n",
      "Indices:  [ 4  9 14 19 24 29 34 39 44 49 54 59 64 69 74 79 84 89 94 99]\n"
     ]
    }
   ],
   "source": [
    "print('Objects: ',names[4::5])\n",
    "print('Indices: ',np.arange(len(names))[4::5])"
   ]
  },
  {
   "cell_type": "code",
   "execution_count": null,
   "metadata": {},
   "outputs": [],
   "source": []
  }
 ],
 "metadata": {
  "kernelspec": {
   "display_name": "Python 3",
   "language": "python",
   "name": "python3"
  },
  "language_info": {
   "codemirror_mode": {
    "name": "ipython",
    "version": 3
   },
   "file_extension": ".py",
   "mimetype": "text/x-python",
   "name": "python",
   "nbconvert_exporter": "python",
   "pygments_lexer": "ipython3",
   "version": "3.7.7"
  }
 },
 "nbformat": 4,
 "nbformat_minor": 2
}
